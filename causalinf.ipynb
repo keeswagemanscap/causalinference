{
 "cells": [
  {
   "cell_type": "markdown",
   "id": "e12560c0",
   "metadata": {},
   "source": [
    "# Causal Inference in Python \n",
    "\n",
    "This notebook is an exploration of causal inference in python using the famous Lalonde dataset. \n",
    "\n",
    "The study looked at the effectiveness of a job training program (the treatment) on the real earnings of an individual, a couple years after completion of the problem. \n",
    "\n",
    "The data consists of a number of demographic variables (age, race, academic background, and previous real earnings), as well as a treatment indicator, and the real earnings in the year 1978 (the response).\n",
    "\n",
    "_Robert Lalonde, \"Evaluating the Econometric Evaluations of Training Programs\", American Economic Review, Vol. 76, pp. 604-620_ "
   ]
  },
  {
   "cell_type": "code",
   "execution_count": null,
   "id": "c6b2b6ef",
   "metadata": {},
   "outputs": [],
   "source": [
    "#Import libraries \n",
    "import numpy as np\n",
    "import pandas as pd \n",
    "import matplotlib.pyplot as plt  \n",
    "import seaborn as sns \n",
    "\n",
    "from causalinference import CausalModel "
   ]
  },
  {
   "cell_type": "markdown",
   "id": "ef06dbb6",
   "metadata": {},
   "source": [
    "In this notebook we'll be using the tools provided by Laurence Wong in the Package CausalInference. Comments on what each function does come from the very good package documentation: http://laurence-wong.com/software/\n",
    "\n",
    "This package relies heavily on Rubin causal model, and so will this analysis https://en.wikipedia.org/wiki/Rubin_causal_model\n",
    "\n",
    "The reason why several models exist is that it is impossible to observe the causal effect on a single unit, and so assumptions must be made to estimate the missing counterfactuals. We'll explain what all that means in this post."
   ]
  },
  {
   "cell_type": "code",
   "execution_count": null,
   "id": "50c53cc5",
   "metadata": {},
   "outputs": [],
   "source": [
    "lalonde = pd.read_csv('lalonde_data.csv', index_col=0)    \n",
    "lalonde.head()"
   ]
  },
  {
   "cell_type": "code",
   "execution_count": null,
   "id": "fd619cc7",
   "metadata": {},
   "outputs": [],
   "source": [
    "lalonde.describe()"
   ]
  },
  {
   "cell_type": "markdown",
   "id": "ef2b3f16",
   "metadata": {},
   "source": [
    "Let's get the difference in earning between the control group and the treated group: "
   ]
  },
  {
   "cell_type": "code",
   "execution_count": null,
   "id": "8f382fb9",
   "metadata": {},
   "outputs": [],
   "source": [
    "lalonde.groupby('treat')['re78'].agg(['mean', 'median'])"
   ]
  },
  {
   "cell_type": "markdown",
   "id": "d8a76d84",
   "metadata": {},
   "source": [
    "The control group has higher earnings than the treatment group - does this mean the treatment had a negative impact? "
   ]
  },
  {
   "cell_type": "code",
   "execution_count": null,
   "id": "11bbe652",
   "metadata": {},
   "outputs": [],
   "source": [
    "lalonde.groupby('treat')['re78'].plot(kind='hist', bins=20, alpha=0.8, legend=True)\n"
   ]
  },
  {
   "cell_type": "markdown",
   "id": "879ecd49",
   "metadata": {},
   "source": [
    "This dataset does not represent a balanced trial. In fact, individuals in the control group differ significantly form those in the test (treatment) group. The plot below illustrates the variations in their income. "
   ]
  },
  {
   "cell_type": "code",
   "execution_count": null,
   "id": "98e7aa39",
   "metadata": {},
   "outputs": [],
   "source": [
    "lalonde.groupby('treat')['re74'].plot(kind='hist', bins=20, alpha=0.8, legend=True)\n"
   ]
  },
  {
   "cell_type": "code",
   "execution_count": null,
   "id": "ef05a4bd",
   "metadata": {},
   "outputs": [],
   "source": [
    "lalonde.groupby('treat')['age'].plot(kind='hist', bins=20, alpha=0.8, legend=True)\n"
   ]
  },
  {
   "cell_type": "code",
   "execution_count": null,
   "id": "1cafdfc0",
   "metadata": {},
   "outputs": [],
   "source": [
    "lalonde.groupby('treat')['educ'].plot(kind='hist', bins=20, alpha=0.8, legend=True)"
   ]
  },
  {
   "cell_type": "markdown",
   "id": "3e4376b1",
   "metadata": {},
   "source": [
    "### Notation, aim and assumptions \n",
    "\n",
    "*Notations:* \n",
    "\n",
    "- Y represents the response: here it is 1978 earnings \n",
    "- D represents the treatment: the job training program\n",
    "- X represents the confounding variables, here it is likely age, education, race and marital status. Z is also called a covariate or the counter factual. \n",
    "\n",
    "*Aims:* \n",
    "\n",
    "What we want to know here is the Average Treatment Effect (ATE): \n",
    "\n",
    "$$\\Delta = \\mathbb{E}[Y_1 - Y_0]$$\n",
    "\n",
    "\n",
    "However, as we saw, if we try to estimate this quantity from the row observational distribution we get: \n",
    "\n",
    "$$\\Delta_{\\text{raw}} = \\mathbb{E}[Y | D = 1] - \\mathbb{E}[Y | D = 0] = \\mathbb{E}[Y_1 | D = 1] - \\mathbb{E}[Y_0 | D = 0] \\neq \\Delta = \\mathbb{E}[Y_1 - Y_0]$$\n",
    "\n",
    "because: \n",
    "\n",
    "$$\\mathbb{E}[Y_i \\mid D = i] \\neq \\mathbb{E}[Y_i]$$\n",
    "\n",
    "Meaning, that in reality, we can't observe both Y_{1} and Y_{0} for the same person (the \"fundamental problem of causal inference\"). Instead, we only see. Naively computing the raw difference in means is not not the ATE because of selection bias. \n",
    "\n",
    "*General problem:* \n",
    "\n",
    "If we believe that age, education, race, and marital status all have likely influence on earnings Y, we need a way to disentangle the effect of D on Y from the perturbative effect of X on Y. \n",
    "\n",
    "*Assumptions:* \n",
    "\n",
    "The CausalInference package is based on a typical assumption called unconfoundness (no confounder that messes up the relationship between cause and effect) or ignorability: \n",
    "\n",
    "$$(Y(0), Y(1)) \\perp D \\mid X$$\n",
    "\n",
    "Y(1) and Y(0) are independent of D given covariate X. \n",
    "\n",
    "Indeed we saw that the treatment assignment is probably not independent of each subject's potential outcomes, e.g. poorer people are more represented in the treatment group than in the control group.\n",
    "\n",
    "However the treatment is assumed to be unconfounded in the sense that the dependence between the treatment assignment and the outcomes is only through something we observe, namely the covariates X.\n",
    "\n",
    "What this means is that if we control for X, i.e. look across people with similar levels of X, then the difference between treated and control should be attributable to the treatment itself, just as a randomized experiment would be.\n",
    "\n",
    "This is the assumption, and if it doesn't hold our results could be completely wrong.\n",
    "\n",
    "### Simple approach \n",
    "\n",
    "The simplest type of model we can use is a linear model: \n",
    "\n",
    "$$\n",
    "Y_0 = \\alpha + \\beta X + \\epsilon \\\\\n",
    "Y_1 = Y_0 + \\gamma D\n",
    "$$\n",
    "\n",
    "If this is accurate, fitting the following model to the data using linear regression will give us an estimate of the Average Treatment Effect (ATE): \n",
    "\n",
    "$$\n",
    "Y = \\alpha + \\beta X + \\gamma D\n",
    "$$\n",
    "\n",
    "$ \\epsilon $ is called a residual and represents the noise. \n",
    "\n",
    "\n"
   ]
  },
  {
   "cell_type": "code",
   "execution_count": null,
   "id": "5b87de9c",
   "metadata": {},
   "outputs": [],
   "source": [
    "covariates = ['age', 'educ', 'black', 'hispan', 'married', 'nodegree', 're74', 're75']"
   ]
  },
  {
   "cell_type": "code",
   "execution_count": null,
   "id": "c92c0e09",
   "metadata": {},
   "outputs": [],
   "source": [
    "causal = CausalModel(\n",
    "    Y=lalonde['re78'].values, \n",
    "    D=lalonde['treat'].values, \n",
    "    X=lalonde[covariates].values\n",
    ")\n",
    "\n",
    "causal.est_via_ols(adj=1)\n",
    "\n",
    "print(causal.estimates)"
   ]
  },
  {
   "cell_type": "markdown",
   "id": "36903c8a",
   "metadata": {},
   "source": [
    "This model predicts that the Average Treatment Effect (ATE, the job training) is $1548 extra annual earnings. This is very different from our previous raw results predicting that the job training had negative effects on earnings!\n",
    "\n",
    "Assuming that our model accurately describes the counterfactual X, CausalModel provides the 95% confidence interval. What this means is that, if we were to repeat this treatment experiment, in 95% of the cases the Average Treatment Effect would be within that interval. That doesn't mean that the true value is within that interval.\n",
    "\n",
    "Based on the assumption that the residuals are normally distributed, the 95% confidence interval is calculated as:\n",
    "\n",
    "AVG±1.96∗STD / $ \\sqrt{n} $\n",
    "\n",
    "In practice, as the confidence interval is very large, my interpretation is that the experiment should have had more people if a better estimate of the extra earnings was desired. Ways to control the standard deviation could also be explored.\n",
    "\n",
    "Overall, assuming that we controlled for all the effects and did it well, it seems that the job training had a positive effect on earnings. Indeed, although the standard deviation is very large, the p value of 0.035 rejects the null hypothesis (no effect) with a confidence level of 97.5%. However, the truth is that we don't know if we modelled the counterfactual well, and this could change everything... As we will see later, estimators such as the Ordinary Least Square (OLS) estimator can behave poorly when there is not enough covariate overlap, and that's because the estimator needs to extrapolate too much from one group to another.\n",
    "\n",
    "A more structured approach as we will see below can allow us to increase our confidence that the covariants are well controlled for. We will see many steps, but one simple idea is the technique of matching: the idea is to find for each sample which received the treatment a similar sample in the control group, and to directly compare these values.\n",
    "\n",
    "### Structure for a more complete approach \n",
    "\n",
    "*Pre-processing phase* \n",
    "\n",
    "1. assess covariate balance (are these variables distributed similarly between groups)\n",
    "2. estimate propensity score (the propensity score is the probability that a unit receives the treatment based on its covariates)\n",
    "3. trim sample (removing subjects with extremely high or low propensity scores that might skew results)\n",
    "4. stratify sample (after trimming, you divide the remaining sample into strata (categories or bins) based on their propensity scores)\n",
    "\n",
    "*Estimation phase:* \n",
    "\n",
    "1. blocking estimator or/and \n",
    "2. matching estimator \n",
    "\n",
    "Blocking is a method used to reduce variation and improve the precision of an estimator by grouping units into blocks (or strata) based on similar characteristics or covariates. Within each block, treatment and control units are compared. \n",
    "\n",
    "Matching is a technique where treated units are \"paired\" with control units that have similar covariate values. The goal is to create a pseudo-experimental setup where treated and control groups look as similar as possible. \n",
    "\n",
    "### Pre-processing phase \n",
    "\n",
    "In the pre-processing phase, the data is inspected and manipulated to allow credible analysis to be conducted on it.\n",
    "\n",
    "As we discussed in the previous section, one key method for disantangling the treatment effect from the covariant effects is the matching technique. In this technique we compare subjects that have similar covariate values (i.e. same age, rage, income etc). However, our ability to compare such pairs depends heavily on the degree of overlap of the covariates between the treatment and control group. This is called covariate balance.\n",
    "\n",
    "Said otherwise, to control the effect of education, one way is to look at people in the tested group and in the non-tested group that all have the same level of education, say a bachelor degree. However, if nobody in the test group has a bachelor degree while many do in the non-test group, this procedure is impossible.\n",
    "\n",
    "(1) assess covariate balance to assess whether how easily people can be matched. If there is too much unbalance, direct matching will rarely be possible, and we may need to use more complex techniques, if at all possible."
   ]
  },
  {
   "cell_type": "code",
   "execution_count": null,
   "id": "ea55769e",
   "metadata": {},
   "outputs": [],
   "source": [
    "lalonde.columns "
   ]
  },
  {
   "cell_type": "code",
   "execution_count": null,
   "id": "d9dcabd7",
   "metadata": {},
   "outputs": [],
   "source": [
    "print(causal.summary_stats) "
   ]
  },
  {
   "cell_type": "markdown",
   "id": "fda25e33",
   "metadata": {},
   "source": [
    "Raw-diff is the raw difference between the means of the control and treatment groups.\n",
    "\n",
    "As we saw previously, the treated group (trained) is earning $635 less than the control group, which is surprising.\n",
    "\n",
    "Nor-diff in this package is Imbens and Rubin's normalized differences (2015) in average covariates, defined as:\n",
    "\n",
    "$$\n",
    "\\frac{\\bar{X}_{k,t} - \\bar{X}_{k,c}}{\\sqrt{\\frac{s^2_{k,t} + s^2_{k,c}}{2}}}\n",
    "$$\n",
    "\n",
    "Here  $\\bar{X}_{k,t}$ \n",
    "  and  $\\bar{s}_{k,t}$ \n",
    "  are the sample mean and sample standard deviation of the kth covariate of the treatment group, and  $\\bar{X}_{k,c}$\n",
    "  and  $\\bar{s}_{k,c}$\n",
    "  are the analogous statistics for the control group.\n",
    "\n",
    "The aim here is to assess the overlap between the control and treatment groups. It can be seen that X2, X4, and X6 (black, married, revenue in 1974) have a large normalized difference, beyond 0.5. This can be interpreted as an imbalance. Concretely, there are way more black people, less married people and lower income in 1974 in the treatment group than in the control group.\n",
    "\n",
    "The impact of imbalance is to make the matching technique harder to apply. We'll see later how we can try to correct for it (however, ideally the study would be more balanced!).\n",
    "\n",
    "(2) Propensity Score - the probability of receiving the treatment, conditional on the covariates.\n",
    "\n",
    "Propensity is useful for assessing and improving covariate balance. Indeed a theorem by Rosenbaum and Rubin in 1983, proves that, for subjects that share the same propensity score (even if their covariate vectors are different), the difference between the treated and the control units actually identifies a conditional average treatment effect.\n",
    "\n",
    "Thus, instead of matching on the covariate vectors X themselves, we can also match on the single-dimensional propensity score p(X), aggregate across subjects, and still arrive at a valid estimate of the overall average treatment effect.\n",
    "\n",
    "$$\n",
    "E[Y(1) - Y(0) \\mid p(X)] \\approx E[Y(1) - Y(0)]\n",
    "$$\n",
    "\n",
    "This is if  $\n",
    "p(X) = P(D = 1 \\mid X)\n",
    "$\n",
    " , which the CausalInference package estimates for us using a sequence of likelihood ratio tests."
   ]
  },
  {
   "cell_type": "code",
   "execution_count": null,
   "id": "c713de94",
   "metadata": {},
   "outputs": [],
   "source": [
    "causal.est_propensity_s()    \n",
    "print(causal.propensity)"
   ]
  },
  {
   "cell_type": "code",
   "execution_count": null,
   "id": "0566480f",
   "metadata": {},
   "outputs": [],
   "source": [
    "# extreme propensity is a very high probability to be either in the control group or the treatment group\n",
    "# that makes matching difficult\n",
    "\n",
    "#by default, causal.cutoff is set to 1\n",
    "# the trim function will drop units whose estimated propensity score <= 0.1 or >= 0.9\n",
    "#causal.cutoff = 0.1\n",
    "#causal.trim()\n",
    "\n",
    "#however, there is a procedure that tried to select an optimal cutoff value\n",
    "causal.trim_s()"
   ]
  },
  {
   "cell_type": "code",
   "execution_count": null,
   "id": "ebde9941",
   "metadata": {},
   "outputs": [],
   "source": [
    "print(causal.summary_stats)"
   ]
  },
  {
   "cell_type": "markdown",
   "id": "b7d9feb0",
   "metadata": {},
   "source": [
    "In this new subset, the normal difference for most variables is rather balanced. Only X2 (number of black people) is still unbalanced.\n",
    "\n",
    "It is worth noting that the initial sample of 614 people (429 controls, 185 treated) has been drastically trimmed to 297 people (157 controls, 140 treated).\n",
    "\n",
    "In this more balanced sub-sample, without using any model, the average earnings in 1978 is more like what we would expect: populations that received training (treated) earn in average $875 more than the control group.\n",
    "\n",
    "(4) Stratify sample - group similar subjects together. People are grouped in layers of similar propensity scores. These bins should have an improved covariate balance, and we should be able to compare and match samples within those bins."
   ]
  },
  {
   "cell_type": "code",
   "execution_count": null,
   "id": "86da8104",
   "metadata": {},
   "outputs": [],
   "source": [
    "# the default is to have 5 bins with equal number of samples\n",
    "\n",
    "# however, it is possible to split the sample in a more data-driven way.\n",
    "# The larger the sample, the more bins we can afford, so that samples can be increasingly similar within smaller bins\n",
    "# the limit in dividing too much is that there are too few datapoints in each bin for the bins to be statistically different (t-test)\n",
    "\n",
    "causal.stratify_s()\n",
    "print(causal.strata) "
   ]
  },
  {
   "cell_type": "code",
   "execution_count": null,
   "id": "fe8bdbac",
   "metadata": {},
   "outputs": [],
   "source": [
    "#causal.est_via_blocking()\n",
    "#print(causal.estimates)\n",
    "\n",
    "# for some reason I'm having a singular matrix when calculating this blocking estimator\n",
    "# on one of the stratum\n",
    "# I've tried changing the stratum structure and the set of variables,\n",
    "# however, the singularity persists when calculating the covariance matrix\n",
    "# this would need a closer look at the dataset, which I haven't taken the time to do yet\n",
    "\n",
    "# this is one of the issue of this causal inference package:\n",
    "# it needs to invert large matrixes, which can fail"
   ]
  },
  {
   "cell_type": "code",
   "execution_count": null,
   "id": "574e2617",
   "metadata": {},
   "outputs": [],
   "source": [
    "causal.est_via_matching(bias_adj=True)\n",
    "print(causal.estimates)"
   ]
  },
  {
   "cell_type": "markdown",
   "id": "b7fa172f",
   "metadata": {},
   "source": [
    "The model provides estimates of three quantities: ATE, ATT and ATC:\n",
    "\n",
    "ATE is the Average Treatment Effect, and this is what we are most interested in.  \n",
    "\n",
    "$$\\text{ATE} = E[Y_1 - Y_0] \\approx E[Y_1 - Y_0 \\mid X]$$\n",
    " \n",
    "Here is seems that the average effect of the treatment (job training) was to increase earnings by $384.\n",
    "However, this effect may just be a random variation, and the treatment may well not have any impact (the null hypothesis). The probability to reject the null hypothesis is 25%. The most common interpretation of this number is that the treatment of job trainings did not have a statistically significant impact on earnings, given the models and data processing we did\n",
    "ATT is the Average Treatment effect of the Treated  $ATT=E[Y1−Y0|D=1]$\n",
    " \n",
    "ATC is the Average Treatment effect of the Control  $ATC=E[Y1−Y0|D=0]$"
   ]
  },
  {
   "cell_type": "code",
   "execution_count": null,
   "id": "36919968",
   "metadata": {},
   "outputs": [],
   "source": [
    "# allowing several matches\n",
    "causal.est_via_matching(bias_adj=True, matches=4)\n",
    "print(causal.estimates)"
   ]
  },
  {
   "cell_type": "markdown",
   "id": "d5454399",
   "metadata": {},
   "source": [
    "Allowing several matches attributes $1027 of revenue increase to the treatment, with 75% probability to be significant. A common interpretation would be still to reject this as proof of statistical significance.\n",
    "\n",
    "### Conclusions \n",
    "\n",
    "The effect of training is hard to establish firmly. Although it seems the sample from Lalonde had positive effects, it is actually quite likely to be without any effect.\n",
    "\n",
    "This isn't so far from what Lalonde concluded: http://people.hbs.edu/nashraf/LaLonde_1986.pdf By glancing at it, Lalonde seemed to know the gender of participants, which does not seem to be in this dataset, or may be hidden in the NSW vs AFDC.\n",
    "\n",
    "More work could be done to better estimate the counterfactual. For instance we could introduce polynomial variables to capture non-linear effects and/or introduce categorical variables to bin numerical variables such aseducation.\n",
    "\n",
    "This was an example of how the CausalInference package could be used, and our conclusions are attached to those models. This package relies heavily on propensity matching and its ignorability / confoundedness assumption.\n",
    "\n",
    "Other models exist, e.g. Bayesian models. This will be for another time for us. Meanwhile, the curious can have a look at this other post: https://engl.is/causal-analysis-introduction-examples-in-python-and-pymc.html"
   ]
  }
 ],
 "metadata": {
  "kernelspec": {
   "display_name": "3.11.4",
   "language": "python",
   "name": "python3"
  },
  "language_info": {
   "codemirror_mode": {
    "name": "ipython",
    "version": 3
   },
   "file_extension": ".py",
   "mimetype": "text/x-python",
   "name": "python",
   "nbconvert_exporter": "python",
   "pygments_lexer": "ipython3",
   "version": "3.11.4"
  }
 },
 "nbformat": 4,
 "nbformat_minor": 5
}
